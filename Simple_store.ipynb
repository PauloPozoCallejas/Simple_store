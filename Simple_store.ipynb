{
  "nbformat": 4,
  "nbformat_minor": 0,
  "metadata": {
    "colab": {
      "name": "Simple_store.ipynb",
      "provenance": [],
      "collapsed_sections": []
    },
    "kernelspec": {
      "name": "python3",
      "display_name": "Python 3"
    },
    "language_info": {
      "name": "python"
    }
  },
  "cells": [
    {
      "cell_type": "code",
      "source": [
        "import numpy as np\n",
        "from datetime import datetime"
      ],
      "metadata": {
        "id": "ID-LibfTq94o"
      },
      "execution_count": 268,
      "outputs": []
    },
    {
      "cell_type": "code",
      "source": [
        "Shop_record = [[\"incident description\", 'solved', 4, 1],                    #Matriz con datos de la tienda a utilizar\n",
        "               [\"incident description\", 'solved', 31, 1],\n",
        "               [\"incident description\", 'solved', 17, 2],\n",
        "               [\"incident description\", 'solved', 9, 3],\n",
        "                [\"incident description\", 'solved', 13, 4],\n",
        "                [\"incident description\", 'open', 21, 5],\n",
        "                [\"incident description\", 'solved', 25, 5],\n",
        "                [\"incident description\", 'open', 3, 6],\n",
        "                [\"incident description\", 'open', 10, 7],\n",
        "                [\"incident description\", 'solved', 2, 7]]\n",
        "\n",
        "class Simple_store:\n",
        "    def __init__(self):\n",
        "        Shop_status = 0\n",
        "        \n",
        "    def incident_status(self, date1, date2):\n",
        "        if date1 > date2:                                           # se reordenan las fechas en caso de que la primera fecha ingresada sea mayor a la segunda\n",
        "            date1, date2 = date2, date1\n",
        "        now=datetime.now()\n",
        "        Shop_status = self\n",
        "        j = 0\n",
        "        c1 = 0\n",
        "        c2 = 0\n",
        "        z = 0\n",
        "        G = 0\n",
        "        for i in range(len(self)):                                 # se crea una nueva matriz solo con los datos de la matriz original que coincidan con las fechas ingresadas\n",
        "            if date2 >= self[i][3] and self[i][3] >= date1:\n",
        "                j = j+1\n",
        "            else:\n",
        "                Shop_status = np.delete(Shop_status, j, axis = 0)\n",
        "          \n",
        "        for i in range(len(Shop_status)):\n",
        "            if Shop_status[i][1] == 'solved':\n",
        "                c1 = c1+1\n",
        "                z = z + float(Shop_status[i][2])\n",
        "            if Shop_status[i][1] == 'open':\n",
        "                x = now.day - int(Shop_status[i][3])\n",
        "                y = now.hour + (x*24) - int(Shop_status[i][2])\n",
        "                Shop_status[i][2] = y\n",
        "                c2 = c2+1\n",
        "          \n",
        "        for i in range(len(Shop_status)):\n",
        "            if G < int(Shop_status[i][2]):\n",
        "                G = int(Shop_status[i][2])\n",
        "\n",
        "        solved_cases = c1\n",
        "        open_cases = c2     \n",
        "        avs = z/c1\n",
        "        ms = G\n",
        "        print(Shop_status)\n",
        "        print('solved cases:', solved_cases ,'\\n', 'open cases:', open_cases ,'\\n', 'average solution:', avs ,'\\n', 'maximum solution:', ms)"
      ],
      "metadata": {
        "id": "5JWxymu_MMGE"
      },
      "execution_count": 278,
      "outputs": []
    },
    {
      "cell_type": "code",
      "source": [
        "Simple_store.incident_status(Shop_record, 1, 3)"
      ],
      "metadata": {
        "id": "XcoL8GbM9mZS",
        "colab": {
          "base_uri": "https://localhost:8080/"
        },
        "outputId": "8ec2d6b9-aa26-4940-da81-317f9d3b1fcd"
      },
      "execution_count": 279,
      "outputs": [
        {
          "output_type": "stream",
          "name": "stdout",
          "text": [
            "[['incident description' 'solved' '4' '1']\n",
            " ['incident description' 'solved' '31' '1']\n",
            " ['incident description' 'solved' '17' '2']\n",
            " ['incident description' 'solved' '9' '3']]\n",
            "solved cases: 4 \n",
            " open cases: 0 \n",
            " average solution: 15.25 \n",
            " maximum solution: 31\n"
          ]
        }
      ]
    },
    {
      "cell_type": "code",
      "source": [
        "Simple_store.incident_status(Shop_record, 4, 7)"
      ],
      "metadata": {
        "colab": {
          "base_uri": "https://localhost:8080/"
        },
        "id": "RRl3IwiPMw5-",
        "outputId": "ac24054c-7a80-47ac-d667-bf60df472509"
      },
      "execution_count": 280,
      "outputs": [
        {
          "output_type": "stream",
          "name": "stdout",
          "text": [
            "[['incident description' 'solved' '13' '4']\n",
            " ['incident description' 'open' '49' '5']\n",
            " ['incident description' 'solved' '25' '5']\n",
            " ['incident description' 'open' '43' '6']\n",
            " ['incident description' 'open' '12' '7']\n",
            " ['incident description' 'solved' '2' '7']]\n",
            "solved cases: 3 \n",
            " open cases: 3 \n",
            " average solution: 13.333333333333334 \n",
            " maximum solution: 49\n"
          ]
        }
      ]
    },
    {
      "cell_type": "code",
      "source": [
        "Simple_store.incident_status(Shop_record, 5, 2)"
      ],
      "metadata": {
        "colab": {
          "base_uri": "https://localhost:8080/"
        },
        "id": "ZYB36BRaMxHc",
        "outputId": "b43e1fc3-8c36-4416-8c93-db3ab9a7b85e"
      },
      "execution_count": 281,
      "outputs": [
        {
          "output_type": "stream",
          "name": "stdout",
          "text": [
            "[['incident description' 'solved' '17' '2']\n",
            " ['incident description' 'solved' '9' '3']\n",
            " ['incident description' 'solved' '13' '4']\n",
            " ['incident description' 'open' '49' '5']\n",
            " ['incident description' 'solved' '25' '5']]\n",
            "solved cases: 4 \n",
            " open cases: 1 \n",
            " average solution: 16.0 \n",
            " maximum solution: 49\n"
          ]
        }
      ]
    }
  ]
}